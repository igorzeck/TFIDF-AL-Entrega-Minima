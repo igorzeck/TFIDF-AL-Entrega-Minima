{
 "cells": [
  {
   "cell_type": "markdown",
   "metadata": {},
   "source": [
    "# TESTE de TF-IDF Manual"
   ]
  },
  {
   "cell_type": "markdown",
   "metadata": {},
   "source": [
    "## Importações"
   ]
  },
  {
   "cell_type": "code",
   "execution_count": 2,
   "metadata": {},
   "outputs": [
    {
     "name": "stderr",
     "output_type": "stream",
     "text": [
      "[nltk_data] Downloading package stopwords to /home/vortex/nltk_data...\n",
      "[nltk_data]   Package stopwords is already up-to-date!\n"
     ]
    }
   ],
   "source": [
    "# Importações\n",
    "import nltk\n",
    "import pandas as pd\n",
    "import re\n",
    "from collections import Counter\n",
    "from itertools import chain\n",
    "from sklearn.feature_extraction.text import CountVectorizer, TfidfVectorizer\n",
    "from sklearn.metrics.pairwise import cosine_similarity\n",
    "nltk.download('stopwords')  # Não baixa se já estiver atualizado!\n",
    "from nltk.corpus import stopwords\n",
    "import math"
   ]
  },
  {
   "cell_type": "markdown",
   "metadata": {},
   "source": [
    "## Setup"
   ]
  },
  {
   "cell_type": "code",
   "execution_count": 3,
   "metadata": {},
   "outputs": [],
   "source": [
    "doc_mestre_path = \"datasets/teste_csv_exemplo.csv\"\n",
    "sw = set(stopwords.words('portuguese'))\n",
    "col_texto = \"Texto\"\n",
    "df_mestre = pd.read_csv(doc_mestre_path)"
   ]
  },
  {
   "cell_type": "markdown",
   "metadata": {},
   "source": [
    "# Funções de auxílio"
   ]
  },
  {
   "cell_type": "code",
   "execution_count": 40,
   "metadata": {},
   "outputs": [],
   "source": [
    "def ciclar_v(v, n=-1):\n",
    "    \"\"\"\n",
    "    Percorre ciclicamente o vetor v em n passos\n",
    "    Se n não for fornecido, percorre quantas vezes for chamado\n",
    "    \"\"\"\n",
    "    x = 0\n",
    "    for _ in range(n):\n",
    "        yield v[x]\n",
    "        x = (x + 1) if (x + 1) < len(v) else 0\n"
   ]
  },
  {
   "cell_type": "code",
   "execution_count": 41,
   "metadata": {},
   "outputs": [],
   "source": [
    "def aplicar_op(v1, op, v2):\n",
    "    \"\"\"\n",
    "    Aplica operação op nos elementos de v1 a partir dos de v2 e retorna resultado\n",
    "    em um vetor do mesmo tamanho de v1\n",
    "    \"\"\"\n",
    "    vr = []\n",
    "    genv2 = ciclar_v(v2, len(v1))\n",
    "    for i in range(len(v1)):\n",
    "        vr.append(op(v1[i], next(genv2)))\n",
    "    return vr"
   ]
  },
  {
   "cell_type": "code",
   "execution_count": 42,
   "metadata": {},
   "outputs": [],
   "source": [
    "_multx_ = lambda n1, n2: n1 * n2 "
   ]
  },
  {
   "cell_type": "markdown",
   "metadata": {},
   "source": [
    "## Limpeza"
   ]
  },
  {
   "cell_type": "code",
   "execution_count": 43,
   "metadata": {},
   "outputs": [],
   "source": [
    "def limpeza_str(texto: str):\n",
    "    global sw\n",
    "    texto = texto.lower()\n",
    "    temp_texto = []\n",
    "    # Retira todo e qualquer caractere especial (incluindo UNICODE)\n",
    "    pals = re.sub(r'[^\\w\\s]|_', ' ', texto, flags=re.UNICODE).split()\n",
    "    for pal in pals:\n",
    "        if pal not in sw:\n",
    "            if pal.isalnum():\n",
    "                temp_texto.append(pal)\n",
    "            else:\n",
    "                temp_texto.append(\" \")\n",
    "    return ' '.join(temp_texto)"
   ]
  },
  {
   "cell_type": "code",
   "execution_count": 44,
   "metadata": {},
   "outputs": [],
   "source": [
    "df_tinindo = df_mestre.copy()\n",
    "df_tinindo[col_texto] = df_tinindo[col_texto].apply(limpeza_str)"
   ]
  },
  {
   "cell_type": "code",
   "execution_count": 45,
   "metadata": {},
   "outputs": [],
   "source": [
    "# query = \"A paraplegic Marine dispatched to the moon Pandora on a unique mission becomes torn between following his orders and protecting the world he feels is his home.\"\n",
    "# query = 'this is the first document'\n",
    "query = 'O gato comeu o rato'\n",
    "query = limpeza_str(query)"
   ]
  },
  {
   "cell_type": "code",
   "execution_count": 46,
   "metadata": {},
   "outputs": [
    {
     "data": {
      "text/plain": [
       "['gato comeu rato', 'gato sentou cadeira', 'rato comeu queijo cadeira']"
      ]
     },
     "execution_count": 46,
     "metadata": {},
     "output_type": "execute_result"
    }
   ],
   "source": [
    "lista_tinindo = [query] + df_tinindo[col_texto].to_list()\n",
    "lista_tinindo"
   ]
  },
  {
   "cell_type": "markdown",
   "metadata": {},
   "source": [
    "## Funções para cálculo da similaridade de cossenos"
   ]
  },
  {
   "cell_type": "markdown",
   "metadata": {},
   "source": [
    "$\\vec{v}\\cdot\\vec{w} = \\sum_{i = 1}^{n}{\\lVert v_{i} \\rVert\\times\\lVert w_{i} \\rVert}$, onde $n$ é o número de dimensões"
   ]
  },
  {
   "cell_type": "code",
   "execution_count": 47,
   "metadata": {},
   "outputs": [],
   "source": [
    "def prod_escalar(v1, v2) -> int:\n",
    "    \"\"\"\n",
    "    Retorna o produto escalar de dois vetores.\n",
    "    Implicitio que eles tem a mesma dimensão\n",
    "    \"\"\"\n",
    "    return sum(aplicar_op(v1, _multx_, v2))"
   ]
  },
  {
   "cell_type": "markdown",
   "metadata": {},
   "source": [
    "Fórmula utilizada: $\\cos\\theta = \\frac{\\vec{v} \\cdot \\vec{w}}{\\lVert v \\rVert \\times \\lVert w \\rVert}$\n"
   ]
  },
  {
   "cell_type": "code",
   "execution_count": 48,
   "metadata": {},
   "outputs": [],
   "source": [
    "def comp_sim_cos(list_v, vect) -> list:\n",
    "    \"\"\"\n",
    "    Computa similaridade de cosseno entre uma coleção de vetores e um vetor\n",
    "    Retorna lista de cossenos\n",
    "    \"\"\"\n",
    "    return [(prod_escalar(v_el, vect)/(math.sqrt(prod_escalar(v_el, v_el))*math.sqrt(prod_escalar(vect, vect)))) for v_el in list_v]"
   ]
  },
  {
   "cell_type": "markdown",
   "metadata": {},
   "source": [
    "## BOW"
   ]
  },
  {
   "cell_type": "markdown",
   "metadata": {},
   "source": [
    "## Set com termos únicos (Tokenização)"
   ]
  },
  {
   "cell_type": "code",
   "execution_count": 49,
   "metadata": {},
   "outputs": [],
   "source": [
    "def dimensionar(lista_limpa) -> tuple:\n",
    "    \"\"\"\n",
    "    Faz, a partir de uma coleção limpa, uma Bag of Words utilizando-se Sets, \n",
    "    retornando uma tupla com as dimensões TODO: Decidir se vai ou não ser tupla!\n",
    "    \"\"\"\n",
    "    dimen_set = set()\n",
    "    for texto in lista_limpa:\n",
    "        for pal in texto.split(\" \"):\n",
    "            dimen_set.add(pal)\n",
    "    return tuple(dimen_set)"
   ]
  },
  {
   "cell_type": "markdown",
   "metadata": {},
   "source": [
    "## Vetorização"
   ]
  },
  {
   "cell_type": "code",
   "execution_count": 50,
   "metadata": {},
   "outputs": [],
   "source": [
    "lista_dimen = dimensionar(lista_tinindo)"
   ]
  },
  {
   "cell_type": "markdown",
   "metadata": {},
   "source": [
    "Passa para tupla para se ter referência fixa dos termos do Set"
   ]
  },
  {
   "cell_type": "code",
   "execution_count": 51,
   "metadata": {},
   "outputs": [],
   "source": [
    "def arr_bowrizar(lista_limpa, lista_dimen):\n",
    "    arr_dimen = []\n",
    "    if lista_dimen:\n",
    "        lista_dimen = dimensionar(lista_limpa)\n",
    "    for doc in lista_limpa:\n",
    "        vect = []\n",
    "        for token in lista_dimen:\n",
    "            vect.append(doc.count(token))\n",
    "        arr_dimen.append(vect)\n",
    "    return arr_dimen"
   ]
  },
  {
   "cell_type": "code",
   "execution_count": 52,
   "metadata": {},
   "outputs": [
    {
     "data": {
      "text/plain": [
       "[[0, 1, 1, 1, 0, 0], [0, 1, 0, 0, 1, 1], [1, 0, 1, 1, 1, 0]]"
      ]
     },
     "execution_count": 52,
     "metadata": {},
     "output_type": "execute_result"
    }
   ],
   "source": [
    "col_garcia = [\"gato\", \"comeu\", \"sentou\", \"cadeira\", \"queijo\", \"rato\"]\n",
    "lista_dimen = col_garcia\n",
    "arr_dimen = arr_bowrizar(lista_tinindo, lista_dimen)\n",
    "arr_dimen"
   ]
  },
  {
   "cell_type": "markdown",
   "metadata": {},
   "source": [
    "Dicionários seriam mais práticos, mas também bem mais lentos!"
   ]
  },
  {
   "cell_type": "code",
   "execution_count": 53,
   "metadata": {},
   "outputs": [
    {
     "data": {
      "text/html": [
       "<div>\n",
       "<style scoped>\n",
       "    .dataframe tbody tr th:only-of-type {\n",
       "        vertical-align: middle;\n",
       "    }\n",
       "\n",
       "    .dataframe tbody tr th {\n",
       "        vertical-align: top;\n",
       "    }\n",
       "\n",
       "    .dataframe thead th {\n",
       "        text-align: right;\n",
       "    }\n",
       "</style>\n",
       "<table border=\"1\" class=\"dataframe\">\n",
       "  <thead>\n",
       "    <tr style=\"text-align: right;\">\n",
       "      <th></th>\n",
       "      <th>gato</th>\n",
       "      <th>comeu</th>\n",
       "      <th>sentou</th>\n",
       "      <th>cadeira</th>\n",
       "      <th>queijo</th>\n",
       "      <th>rato</th>\n",
       "    </tr>\n",
       "  </thead>\n",
       "  <tbody>\n",
       "    <tr>\n",
       "      <th>gato comeu rato</th>\n",
       "      <td>0</td>\n",
       "      <td>1</td>\n",
       "      <td>1</td>\n",
       "      <td>1</td>\n",
       "      <td>0</td>\n",
       "      <td>0</td>\n",
       "    </tr>\n",
       "    <tr>\n",
       "      <th>gato sentou cadeira</th>\n",
       "      <td>0</td>\n",
       "      <td>1</td>\n",
       "      <td>0</td>\n",
       "      <td>0</td>\n",
       "      <td>1</td>\n",
       "      <td>1</td>\n",
       "    </tr>\n",
       "    <tr>\n",
       "      <th>rato comeu queijo cadeira</th>\n",
       "      <td>1</td>\n",
       "      <td>0</td>\n",
       "      <td>1</td>\n",
       "      <td>1</td>\n",
       "      <td>1</td>\n",
       "      <td>0</td>\n",
       "    </tr>\n",
       "  </tbody>\n",
       "</table>\n",
       "</div>"
      ],
      "text/plain": [
       "                           gato  comeu  sentou  cadeira  queijo  rato\n",
       "gato comeu rato               0      1       1        1       0     0\n",
       "gato sentou cadeira           0      1       0        0       1     1\n",
       "rato comeu queijo cadeira     1      0       1        1       1     0"
      ]
     },
     "execution_count": 53,
     "metadata": {},
     "output_type": "execute_result"
    }
   ],
   "source": [
    "df_bow = pd.DataFrame(arr_dimen, columns=lista_dimen, index=lista_tinindo)\n",
    "df_bow"
   ]
  },
  {
   "cell_type": "markdown",
   "metadata": {},
   "source": [
    "### Similaridade de cossenos por BOW simples"
   ]
  },
  {
   "cell_type": "code",
   "execution_count": 54,
   "metadata": {},
   "outputs": [
    {
     "data": {
      "text/plain": [
       "[1.0000000000000002, 0.33333333333333337, 0.5773502691896258]"
      ]
     },
     "execution_count": 54,
     "metadata": {},
     "output_type": "execute_result"
    }
   ],
   "source": [
    "l_sim_cos = comp_sim_cos(arr_dimen, arr_dimen[0])\n",
    "l_sim_cos"
   ]
  },
  {
   "cell_type": "markdown",
   "metadata": {},
   "source": [
    "#### Similaridade por Sci-kit"
   ]
  },
  {
   "cell_type": "code",
   "execution_count": 55,
   "metadata": {},
   "outputs": [
    {
     "data": {
      "text/html": [
       "<div>\n",
       "<style scoped>\n",
       "    .dataframe tbody tr th:only-of-type {\n",
       "        vertical-align: middle;\n",
       "    }\n",
       "\n",
       "    .dataframe tbody tr th {\n",
       "        vertical-align: top;\n",
       "    }\n",
       "\n",
       "    .dataframe thead th {\n",
       "        text-align: right;\n",
       "    }\n",
       "</style>\n",
       "<table border=\"1\" class=\"dataframe\">\n",
       "  <thead>\n",
       "    <tr style=\"text-align: right;\">\n",
       "      <th></th>\n",
       "      <th>gato</th>\n",
       "      <th>comeu</th>\n",
       "      <th>sentou</th>\n",
       "      <th>cadeira</th>\n",
       "      <th>queijo</th>\n",
       "      <th>rato</th>\n",
       "    </tr>\n",
       "  </thead>\n",
       "  <tbody>\n",
       "    <tr>\n",
       "      <th>gato comeu rato</th>\n",
       "      <td>1</td>\n",
       "      <td>1</td>\n",
       "      <td>0</td>\n",
       "      <td>0</td>\n",
       "      <td>0</td>\n",
       "      <td>1</td>\n",
       "    </tr>\n",
       "    <tr>\n",
       "      <th>gato sentou cadeira</th>\n",
       "      <td>1</td>\n",
       "      <td>0</td>\n",
       "      <td>1</td>\n",
       "      <td>1</td>\n",
       "      <td>0</td>\n",
       "      <td>0</td>\n",
       "    </tr>\n",
       "    <tr>\n",
       "      <th>rato comeu queijo cadeira</th>\n",
       "      <td>0</td>\n",
       "      <td>1</td>\n",
       "      <td>0</td>\n",
       "      <td>1</td>\n",
       "      <td>1</td>\n",
       "      <td>1</td>\n",
       "    </tr>\n",
       "  </tbody>\n",
       "</table>\n",
       "</div>"
      ],
      "text/plain": [
       "                           gato  comeu  sentou  cadeira  queijo  rato\n",
       "gato comeu rato               1      1       0        0       0     1\n",
       "gato sentou cadeira           1      0       1        1       0     0\n",
       "rato comeu queijo cadeira     0      1       0        1       1     1"
      ]
     },
     "execution_count": 55,
     "metadata": {},
     "output_type": "execute_result"
    }
   ],
   "source": [
    "cvect = CountVectorizer()\n",
    "f_l = cvect.fit_transform(lista_tinindo)\n",
    "df_bow_cv = pd.DataFrame(f_l.toarray(), columns=cvect.get_feature_names_out(), index=lista_tinindo)\n",
    "df_bow_cv = df_bow_cv[lista_dimen]\n",
    "df_bow_cv\n"
   ]
  },
  {
   "cell_type": "markdown",
   "metadata": {},
   "source": [
    "#### Similaridade de cossenos pelo Sci-kit"
   ]
  },
  {
   "cell_type": "code",
   "execution_count": 56,
   "metadata": {},
   "outputs": [
    {
     "data": {
      "text/plain": [
       "[[1.0000000000000002], [0.3333333333333334], [0.5773502691896258]]"
      ]
     },
     "execution_count": 56,
     "metadata": {},
     "output_type": "execute_result"
    }
   ],
   "source": [
    "sim_scores = cosine_similarity(f_l, f_l[0])\n",
    "sim_scores.tolist()"
   ]
  },
  {
   "cell_type": "markdown",
   "metadata": {},
   "source": [
    "## TF (Term Frequency)"
   ]
  },
  {
   "cell_type": "code",
   "execution_count": 57,
   "metadata": {},
   "outputs": [],
   "source": [
    "def tf(l_vect, rel=True) -> list[list]:\n",
    "    \"\"\"\n",
    "    rel: Define se ocorrerá divisão de cada elemento da coleção por algum valor, relativando\n",
    "    \"\"\"\n",
    "    if rel:\n",
    "        dimen = len(l_vect[0])\n",
    "        n_vect = [aplicar_op(vect, _multx_, [1/dimen]) for vect in l_vect]\n",
    "    else:\n",
    "        n_vect = l_vect\n",
    "    return n_vect"
   ]
  },
  {
   "cell_type": "code",
   "execution_count": 58,
   "metadata": {},
   "outputs": [
    {
     "data": {
      "text/plain": [
       "[[0.0,\n",
       "  0.16666666666666666,\n",
       "  0.16666666666666666,\n",
       "  0.16666666666666666,\n",
       "  0.0,\n",
       "  0.0],\n",
       " [0.0,\n",
       "  0.16666666666666666,\n",
       "  0.0,\n",
       "  0.0,\n",
       "  0.16666666666666666,\n",
       "  0.16666666666666666],\n",
       " [0.16666666666666666,\n",
       "  0.0,\n",
       "  0.16666666666666666,\n",
       "  0.16666666666666666,\n",
       "  0.16666666666666666,\n",
       "  0.0]]"
      ]
     },
     "execution_count": 58,
     "metadata": {},
     "output_type": "execute_result"
    }
   ],
   "source": [
    "l_tf_rel = tf(arr_dimen)\n",
    "l_tf_rel"
   ]
  },
  {
   "cell_type": "code",
   "execution_count": 59,
   "metadata": {},
   "outputs": [
    {
     "data": {
      "text/plain": [
       "[[0, 1, 1, 1, 0, 0], [0, 1, 0, 0, 1, 1], [1, 0, 1, 1, 1, 0]]"
      ]
     },
     "execution_count": 59,
     "metadata": {},
     "output_type": "execute_result"
    }
   ],
   "source": [
    "l_tf = tf(arr_dimen, False)\n",
    "l_tf"
   ]
  },
  {
   "cell_type": "markdown",
   "metadata": {},
   "source": [
    "## IDF (Inverse Documento Frequency)"
   ]
  },
  {
   "cell_type": "markdown",
   "metadata": {},
   "source": [
    "### Modo manual"
   ]
  },
  {
   "cell_type": "code",
   "execution_count": 60,
   "metadata": {},
   "outputs": [],
   "source": [
    "# TODO: Esse 'suav' é adequado?\n",
    "def idf(l_vect, suav=True, modo_garcia=False):\n",
    "    \"\"\"\n",
    "    Coleção de documentos vetorizados -> lista com idfs por termo\n",
    "    \"\"\"\n",
    "    l_idfs = []\n",
    "    n_docs = len(l_vect)\n",
    "    n_dimen = len(l_vect[0])  # Pega dimensão do primeiro vetor\n",
    "    base = 10 if modo_garcia else math.e\n",
    "    suav = float(suav)\n",
    "    for i_termo in range(n_dimen):\n",
    "        # Conta ocorrência transdocumental\n",
    "        idf_t = math.log(\n",
    "                (n_docs + suav)/([doc[i_termo] != 0 for doc in l_vect].count(True) + suav),\n",
    "                base\n",
    "            ) + float(not modo_garcia)\n",
    "        l_idfs.append(idf_t)\n",
    "\n",
    "    return l_idfs\n",
    "    "
   ]
  },
  {
   "cell_type": "code",
   "execution_count": 61,
   "metadata": {},
   "outputs": [
    {
     "data": {
      "text/plain": [
       "[0.30102999566398114,\n",
       " 0.1249387366082999,\n",
       " 0.1249387366082999,\n",
       " 0.1249387366082999,\n",
       " 0.1249387366082999,\n",
       " 0.30102999566398114]"
      ]
     },
     "execution_count": 61,
     "metadata": {},
     "output_type": "execute_result"
    }
   ],
   "source": [
    "idf(arr_dimen, modo_garcia=True)"
   ]
  },
  {
   "cell_type": "code",
   "execution_count": 62,
   "metadata": {},
   "outputs": [
    {
     "data": {
      "text/plain": [
       "gato       2.098612\n",
       "comeu      1.405465\n",
       "sentou     1.405465\n",
       "cadeira    1.405465\n",
       "queijo     1.405465\n",
       "rato       2.098612\n",
       "dtype: float64"
      ]
     },
     "execution_count": 62,
     "metadata": {},
     "output_type": "execute_result"
    }
   ],
   "source": [
    "l_idf = idf(arr_dimen, suav=False, modo_garcia=False)\n",
    "s_idf = pd.Series(l_idf, index=lista_dimen)\n",
    "s_idf"
   ]
  },
  {
   "cell_type": "markdown",
   "metadata": {},
   "source": [
    "### NLTK"
   ]
  },
  {
   "cell_type": "code",
   "execution_count": 63,
   "metadata": {},
   "outputs": [
    {
     "data": {
      "text/plain": [
       "cadeira    1.405465\n",
       "comeu      1.405465\n",
       "gato       1.405465\n",
       "queijo     2.098612\n",
       "rato       1.405465\n",
       "sentou     2.098612\n",
       "dtype: float64"
      ]
     },
     "execution_count": 63,
     "metadata": {},
     "output_type": "execute_result"
    }
   ],
   "source": [
    "vectz = TfidfVectorizer(smooth_idf=False)\n",
    "tfidf_ = vectz.fit_transform(lista_tinindo)\n",
    "s_idf = pd.Series(vectz.idf_, index=vectz.get_feature_names_out())\n",
    "s_idf"
   ]
  },
  {
   "cell_type": "markdown",
   "metadata": {},
   "source": [
    "## TF-IDF"
   ]
  },
  {
   "cell_type": "markdown",
   "metadata": {},
   "source": [
    "### Modo manual"
   ]
  },
  {
   "cell_type": "code",
   "execution_count": 64,
   "metadata": {},
   "outputs": [],
   "source": [
    "def tfidf(*args, suav_idf=False, modo_garcia=False, rel_tf=True):\n",
    "    \"\"\"\n",
    "    Aceita lista com strings limpas, lista com dimensões nesta ordem\n",
    "    ou TF, IDF nesta ordem\n",
    "        <h2>Parâmetros</h2>\n",
    "            \\n>\n",
    "            **args** (*tuple*(*list*)): args[0] lista com documento limpos. args[1] lista com dimensões.\n",
    "            \\n>\n",
    "            **modo_garcia** (*bool*): Se True fórmula exata da aula.\n",
    "            \\n>\n",
    "            **rel_tf** (*bool*): Se False, tf é frequência absoluta e se True é relativo a dimensão (frequência relativa)\n",
    "    \"\"\"\n",
    "    if isinstance(args[0][0], str):  # Por agora essa é a solução\n",
    "        docs_limpos = args[0]\n",
    "        lista_dimen = args[1]\n",
    "        arr_bow_ = arr_bowrizar(docs_limpos, lista_dimen)\n",
    "        tf_ = tf(arr_bow_, rel_tf)\n",
    "        idf_ = idf(arr_bow_, suav_idf, modo_garcia)\n",
    "    else:\n",
    "        tf_ = args[0]\n",
    "        idf_ = args[1]\n",
    "    l_tfidf_ = []\n",
    "    for v in tf_:\n",
    "        l_tfidf_.append(aplicar_op(v, _multx_, idf_))\n",
    "    return l_tfidf_"
   ]
  },
  {
   "cell_type": "code",
   "execution_count": 65,
   "metadata": {},
   "outputs": [
    {
     "data": {
      "text/html": [
       "<div>\n",
       "<style scoped>\n",
       "    .dataframe tbody tr th:only-of-type {\n",
       "        vertical-align: middle;\n",
       "    }\n",
       "\n",
       "    .dataframe tbody tr th {\n",
       "        vertical-align: top;\n",
       "    }\n",
       "\n",
       "    .dataframe thead th {\n",
       "        text-align: right;\n",
       "    }\n",
       "</style>\n",
       "<table border=\"1\" class=\"dataframe\">\n",
       "  <thead>\n",
       "    <tr style=\"text-align: right;\">\n",
       "      <th></th>\n",
       "      <th>gato</th>\n",
       "      <th>comeu</th>\n",
       "      <th>sentou</th>\n",
       "      <th>cadeira</th>\n",
       "      <th>queijo</th>\n",
       "      <th>rato</th>\n",
       "    </tr>\n",
       "  </thead>\n",
       "  <tbody>\n",
       "    <tr>\n",
       "      <th>gato comeu rato</th>\n",
       "      <td>0.000000</td>\n",
       "      <td>1.405465</td>\n",
       "      <td>1.405465</td>\n",
       "      <td>1.405465</td>\n",
       "      <td>0.000000</td>\n",
       "      <td>0.000000</td>\n",
       "    </tr>\n",
       "    <tr>\n",
       "      <th>gato sentou cadeira</th>\n",
       "      <td>0.000000</td>\n",
       "      <td>1.405465</td>\n",
       "      <td>0.000000</td>\n",
       "      <td>0.000000</td>\n",
       "      <td>1.405465</td>\n",
       "      <td>2.098612</td>\n",
       "    </tr>\n",
       "    <tr>\n",
       "      <th>rato comeu queijo cadeira</th>\n",
       "      <td>2.098612</td>\n",
       "      <td>0.000000</td>\n",
       "      <td>1.405465</td>\n",
       "      <td>1.405465</td>\n",
       "      <td>1.405465</td>\n",
       "      <td>0.000000</td>\n",
       "    </tr>\n",
       "  </tbody>\n",
       "</table>\n",
       "</div>"
      ],
      "text/plain": [
       "                               gato     comeu    sentou   cadeira    queijo  \\\n",
       "gato comeu rato            0.000000  1.405465  1.405465  1.405465  0.000000   \n",
       "gato sentou cadeira        0.000000  1.405465  0.000000  0.000000  1.405465   \n",
       "rato comeu queijo cadeira  2.098612  0.000000  1.405465  1.405465  1.405465   \n",
       "\n",
       "                               rato  \n",
       "gato comeu rato            0.000000  \n",
       "gato sentou cadeira        2.098612  \n",
       "rato comeu queijo cadeira  0.000000  "
      ]
     },
     "execution_count": 65,
     "metadata": {},
     "output_type": "execute_result"
    }
   ],
   "source": [
    "l_tfidf = tfidf(l_tf, l_idf)\n",
    "pd_tfidf = pd.DataFrame(l_tfidf, columns=lista_dimen, index=lista_tinindo)\n",
    "pd_tfidf = pd_tfidf[lista_dimen]\n",
    "pd_tfidf"
   ]
  },
  {
   "cell_type": "code",
   "execution_count": 66,
   "metadata": {},
   "outputs": [
    {
     "data": {
      "text/html": [
       "<div>\n",
       "<style scoped>\n",
       "    .dataframe tbody tr th:only-of-type {\n",
       "        vertical-align: middle;\n",
       "    }\n",
       "\n",
       "    .dataframe tbody tr th {\n",
       "        vertical-align: top;\n",
       "    }\n",
       "\n",
       "    .dataframe thead th {\n",
       "        text-align: right;\n",
       "    }\n",
       "</style>\n",
       "<table border=\"1\" class=\"dataframe\">\n",
       "  <thead>\n",
       "    <tr style=\"text-align: right;\">\n",
       "      <th></th>\n",
       "      <th>gato</th>\n",
       "      <th>comeu</th>\n",
       "      <th>sentou</th>\n",
       "      <th>cadeira</th>\n",
       "      <th>queijo</th>\n",
       "      <th>rato</th>\n",
       "    </tr>\n",
       "  </thead>\n",
       "  <tbody>\n",
       "    <tr>\n",
       "      <th>gato comeu rato</th>\n",
       "      <td>0.000000</td>\n",
       "      <td>1.287682</td>\n",
       "      <td>1.287682</td>\n",
       "      <td>1.287682</td>\n",
       "      <td>0.000000</td>\n",
       "      <td>0.000000</td>\n",
       "    </tr>\n",
       "    <tr>\n",
       "      <th>gato sentou cadeira</th>\n",
       "      <td>0.000000</td>\n",
       "      <td>1.287682</td>\n",
       "      <td>0.000000</td>\n",
       "      <td>0.000000</td>\n",
       "      <td>1.287682</td>\n",
       "      <td>1.693147</td>\n",
       "    </tr>\n",
       "    <tr>\n",
       "      <th>rato comeu queijo cadeira</th>\n",
       "      <td>1.693147</td>\n",
       "      <td>0.000000</td>\n",
       "      <td>1.287682</td>\n",
       "      <td>1.287682</td>\n",
       "      <td>1.287682</td>\n",
       "      <td>0.000000</td>\n",
       "    </tr>\n",
       "  </tbody>\n",
       "</table>\n",
       "</div>"
      ],
      "text/plain": [
       "                               gato     comeu    sentou   cadeira    queijo  \\\n",
       "gato comeu rato            0.000000  1.287682  1.287682  1.287682  0.000000   \n",
       "gato sentou cadeira        0.000000  1.287682  0.000000  0.000000  1.287682   \n",
       "rato comeu queijo cadeira  1.693147  0.000000  1.287682  1.287682  1.287682   \n",
       "\n",
       "                               rato  \n",
       "gato comeu rato            0.000000  \n",
       "gato sentou cadeira        1.693147  \n",
       "rato comeu queijo cadeira  0.000000  "
      ]
     },
     "execution_count": 66,
     "metadata": {},
     "output_type": "execute_result"
    }
   ],
   "source": [
    "pd_tfidf = pd.DataFrame(tfidf(lista_tinindo, lista_dimen, suav_idf=True, rel_tf=False), columns=lista_dimen, index=lista_tinindo)\n",
    "pd_tfidf = pd_tfidf[lista_dimen]\n",
    "pd_tfidf"
   ]
  },
  {
   "cell_type": "markdown",
   "metadata": {},
   "source": [
    "### Pelo Scikit"
   ]
  },
  {
   "cell_type": "markdown",
   "metadata": {},
   "source": [
    "Para o cálculo do TFIDF o Sci-kit aparenta por padrão utilizar: $tf(t, d)=f_{t,d}$, ou seja, *raw count* de termos naquele documento (BOW)"
   ]
  },
  {
   "cell_type": "markdown",
   "metadata": {},
   "source": [
    "Já o cálculo do TF-IDF em si é somente: $tfidf(t, d) = f(t,d)\\times idf(t, d)$"
   ]
  },
  {
   "cell_type": "code",
   "execution_count": 67,
   "metadata": {},
   "outputs": [
    {
     "data": {
      "text/html": [
       "<div>\n",
       "<style scoped>\n",
       "    .dataframe tbody tr th:only-of-type {\n",
       "        vertical-align: middle;\n",
       "    }\n",
       "\n",
       "    .dataframe tbody tr th {\n",
       "        vertical-align: top;\n",
       "    }\n",
       "\n",
       "    .dataframe thead th {\n",
       "        text-align: right;\n",
       "    }\n",
       "</style>\n",
       "<table border=\"1\" class=\"dataframe\">\n",
       "  <thead>\n",
       "    <tr style=\"text-align: right;\">\n",
       "      <th></th>\n",
       "      <th>gato</th>\n",
       "      <th>comeu</th>\n",
       "      <th>sentou</th>\n",
       "      <th>cadeira</th>\n",
       "      <th>queijo</th>\n",
       "      <th>rato</th>\n",
       "    </tr>\n",
       "  </thead>\n",
       "  <tbody>\n",
       "    <tr>\n",
       "      <th>gato comeu rato</th>\n",
       "      <td>1.287682</td>\n",
       "      <td>1.287682</td>\n",
       "      <td>0.000000</td>\n",
       "      <td>0.000000</td>\n",
       "      <td>0.000000</td>\n",
       "      <td>1.287682</td>\n",
       "    </tr>\n",
       "    <tr>\n",
       "      <th>gato sentou cadeira</th>\n",
       "      <td>1.287682</td>\n",
       "      <td>0.000000</td>\n",
       "      <td>1.693147</td>\n",
       "      <td>1.287682</td>\n",
       "      <td>0.000000</td>\n",
       "      <td>0.000000</td>\n",
       "    </tr>\n",
       "    <tr>\n",
       "      <th>rato comeu queijo cadeira</th>\n",
       "      <td>0.000000</td>\n",
       "      <td>1.287682</td>\n",
       "      <td>0.000000</td>\n",
       "      <td>1.287682</td>\n",
       "      <td>1.693147</td>\n",
       "      <td>1.287682</td>\n",
       "    </tr>\n",
       "  </tbody>\n",
       "</table>\n",
       "</div>"
      ],
      "text/plain": [
       "                               gato     comeu    sentou   cadeira    queijo  \\\n",
       "gato comeu rato            1.287682  1.287682  0.000000  0.000000  0.000000   \n",
       "gato sentou cadeira        1.287682  0.000000  1.693147  1.287682  0.000000   \n",
       "rato comeu queijo cadeira  0.000000  1.287682  0.000000  1.287682  1.693147   \n",
       "\n",
       "                               rato  \n",
       "gato comeu rato            1.287682  \n",
       "gato sentou cadeira        0.000000  \n",
       "rato comeu queijo cadeira  1.287682  "
      ]
     },
     "execution_count": 67,
     "metadata": {},
     "output_type": "execute_result"
    }
   ],
   "source": [
    "vectz = TfidfVectorizer(smooth_idf=True, norm=None)\n",
    "tfidf_ = vectz.fit_transform(lista_tinindo)\n",
    "pd_tfidf = pd.DataFrame(tfidf_.toarray(), columns=vectz.get_feature_names_out(), index=lista_tinindo)\n",
    "pd_tfidf = pd_tfidf[lista_dimen]\n",
    "pd_tfidf"
   ]
  },
  {
   "cell_type": "markdown",
   "metadata": {},
   "source": [
    "# Similaridade de cosseno com TF-IDF"
   ]
  },
  {
   "cell_type": "markdown",
   "metadata": {},
   "source": [
    "## Manual"
   ]
  },
  {
   "cell_type": "code",
   "execution_count": 68,
   "metadata": {},
   "outputs": [
    {
     "data": {
      "text/plain": [
       "[1.0, 0.280731035410019, 0.5049352628627182]"
      ]
     },
     "execution_count": 68,
     "metadata": {},
     "output_type": "execute_result"
    }
   ],
   "source": [
    "sim_scores = comp_sim_cos(l_tfidf, l_tfidf[0])\n",
    "sim_scores"
   ]
  },
  {
   "cell_type": "markdown",
   "metadata": {},
   "source": [
    "## Sci-kit"
   ]
  },
  {
   "cell_type": "code",
   "execution_count": 69,
   "metadata": {},
   "outputs": [
    {
     "data": {
      "text/plain": [
       "array([[1.        ],\n",
       "       [0.29898437],\n",
       "       [0.53099312]])"
      ]
     },
     "execution_count": 69,
     "metadata": {},
     "output_type": "execute_result"
    }
   ],
   "source": [
    "sim_scores = cosine_similarity(tfidf_, tfidf_[0])\n",
    "sim_scores"
   ]
  },
  {
   "cell_type": "markdown",
   "metadata": {},
   "source": [
    "# Outros"
   ]
  },
  {
   "cell_type": "code",
   "execution_count": 70,
   "metadata": {},
   "outputs": [],
   "source": [
    "class Real:\n",
    "    def __init__(self, valor_str: str=\"0,0\"):\n",
    "        list_val = valor_str.split(',', maxsplit=1)\n",
    "        self.inteiro = int(list_val[0])\n",
    "        self.decimal = int(list_val[1])\n",
    "    def __str__(self):\n",
    "        return f\"{self.inteiro},{self.decimal}\"\n",
    "    def __repr__(self):\n",
    "        return self.__str__()\n",
    "    def _aplicar_op(self, other, op):\n",
    "        novo_val = Real()\n",
    "        novo_val.inteiro = op(self.inteiro, other.inteiro)\n",
    "        novo_val.decimal = op(self.decimal, other.decimal)\n",
    "        return novo_val\n",
    "    def __add__(self, other):\n",
    "        return self._aplicar_op(other, int.__add__)\n",
    "    def __mul__(self, other):\n",
    "        if isinstance(other, Real):\n",
    "            return self._aplicar_op(other, int.__mul__)\n",
    "            \n"
   ]
  },
  {
   "cell_type": "code",
   "execution_count": 71,
   "metadata": {},
   "outputs": [],
   "source": [
    "val1 = Real(\"10,0\")\n",
    "val2 = Real(\"9,0\")"
   ]
  },
  {
   "cell_type": "code",
   "execution_count": 72,
   "metadata": {},
   "outputs": [
    {
     "name": "stdout",
     "output_type": "stream",
     "text": [
      "19,0\n"
     ]
    }
   ],
   "source": [
    "print(val2 + val1)"
   ]
  },
  {
   "cell_type": "code",
   "execution_count": 73,
   "metadata": {},
   "outputs": [
    {
     "data": {
      "text/plain": [
       "10,0"
      ]
     },
     "execution_count": 73,
     "metadata": {},
     "output_type": "execute_result"
    }
   ],
   "source": [
    "val1"
   ]
  },
  {
   "cell_type": "code",
   "execution_count": 74,
   "metadata": {},
   "outputs": [
    {
     "data": {
      "text/plain": [
       "9,0"
      ]
     },
     "execution_count": 74,
     "metadata": {},
     "output_type": "execute_result"
    }
   ],
   "source": [
    "val2"
   ]
  },
  {
   "cell_type": "markdown",
   "metadata": {},
   "source": [
    "## Objeto de vetor"
   ]
  },
  {
   "cell_type": "code",
   "execution_count": 75,
   "metadata": {},
   "outputs": [],
   "source": [
    "from collections.abc import Iterable\n",
    "\n",
    "\n",
    "class Vetor():\n",
    "    def __init__(self, lista_val: list):\n",
    "        self.vals = list(map(float, lista_val))\n",
    "        self.dimen = len(lista_val)\n",
    "    def _aplicar_op(self, another, op):\n",
    "        return Vetor([op(self.vals[i], another.vals[i]) for i in self.dimen])\n",
    "    def _prod_escalar(self, another):\n",
    "        return prod_escalar(self.lista_val, another.lista_val)\n",
    "    def __iter__(self):\n",
    "        for el in self.vals:\n",
    "            yield el\n",
    "    def __len__(self):\n",
    "        return self.dimen\n",
    "    def __add__(self, another):\n",
    "        return self._aplicar_op(another, float.__add__)\n",
    "    def __mul__(self, another):\n",
    "        print(another)\n",
    "        return Vetor([self.vals[i] * another for i in range(self.dimen)])\n",
    "    def __str__(self):\n",
    "        str_r = \"[\"\n",
    "        for i in range(self.dimen):\n",
    "            str_r += str(self.vals[i]) + (\"\\n\" if i < (self.dimen - 1) else \"]\")\n",
    "        return str_r\n",
    "    def __repr__(self):\n",
    "        return self.__str__()\n",
    "    def __getitem__(self, *i):\n",
    "        print(i)\n",
    "        return self.vals[i]"
   ]
  },
  {
   "cell_type": "code",
   "execution_count": 76,
   "metadata": {},
   "outputs": [],
   "source": [
    "v1 = Vetor([1, 2, 3])"
   ]
  },
  {
   "cell_type": "code",
   "execution_count": 77,
   "metadata": {},
   "outputs": [
    {
     "name": "stdout",
     "output_type": "stream",
     "text": [
      "1.0\n",
      "2.0\n",
      "3.0\n"
     ]
    }
   ],
   "source": [
    "for el in v1:\n",
    "    print(el)"
   ]
  },
  {
   "cell_type": "code",
   "execution_count": 78,
   "metadata": {},
   "outputs": [
    {
     "data": {
      "text/plain": [
       "3"
      ]
     },
     "execution_count": 78,
     "metadata": {},
     "output_type": "execute_result"
    }
   ],
   "source": [
    "len(v1)"
   ]
  },
  {
   "cell_type": "code",
   "execution_count": 79,
   "metadata": {},
   "outputs": [
    {
     "name": "stdout",
     "output_type": "stream",
     "text": [
      "2\n"
     ]
    },
    {
     "data": {
      "text/plain": [
       "[2.0\n",
       "4.0\n",
       "6.0]"
      ]
     },
     "execution_count": 79,
     "metadata": {},
     "output_type": "execute_result"
    }
   ],
   "source": [
    "v1 * 2"
   ]
  },
  {
   "cell_type": "code",
   "execution_count": 80,
   "metadata": {},
   "outputs": [
    {
     "name": "stdout",
     "output_type": "stream",
     "text": [
      "(0,)\n"
     ]
    },
    {
     "ename": "TypeError",
     "evalue": "list indices must be integers or slices, not tuple",
     "output_type": "error",
     "traceback": [
      "\u001b[0;31m---------------------------------------------------------------------------\u001b[0m",
      "\u001b[0;31mTypeError\u001b[0m                                 Traceback (most recent call last)",
      "Cell \u001b[0;32mIn[80], line 1\u001b[0m\n\u001b[0;32m----> 1\u001b[0m v1[\u001b[38;5;241m0\u001b[39m]\n",
      "Cell \u001b[0;32mIn[75], line 31\u001b[0m, in \u001b[0;36mVetor.__getitem__\u001b[0;34m(self, *i)\u001b[0m\n\u001b[1;32m     29\u001b[0m \u001b[38;5;28;01mdef\u001b[39;00m \u001b[38;5;21m__getitem__\u001b[39m(\u001b[38;5;28mself\u001b[39m, \u001b[38;5;241m*\u001b[39mi):\n\u001b[1;32m     30\u001b[0m     \u001b[38;5;28mprint\u001b[39m(i)\n\u001b[0;32m---> 31\u001b[0m     \u001b[38;5;28;01mreturn\u001b[39;00m \u001b[38;5;28mself\u001b[39m\u001b[38;5;241m.\u001b[39mvals[i]\n",
      "\u001b[0;31mTypeError\u001b[0m: list indices must be integers or slices, not tuple"
     ]
    }
   ],
   "source": [
    "v1[0]"
   ]
  },
  {
   "cell_type": "code",
   "execution_count": 379,
   "metadata": {},
   "outputs": [
    {
     "name": "stdout",
     "output_type": "stream",
     "text": [
      "(slice(True, False, None), 1)\n"
     ]
    },
    {
     "ename": "TypeError",
     "evalue": "list indices must be integers or slices, not tuple",
     "output_type": "error",
     "traceback": [
      "\u001b[0;31m---------------------------------------------------------------------------\u001b[0m",
      "\u001b[0;31mTypeError\u001b[0m                                 Traceback (most recent call last)",
      "Cell \u001b[0;32mIn[379], line 1\u001b[0m\n\u001b[0;32m----> 1\u001b[0m v1[\u001b[38;5;28;01mTrue\u001b[39;00m:\u001b[38;5;28;01mFalse\u001b[39;00m, \u001b[38;5;241m1\u001b[39m]\n",
      "Cell \u001b[0;32mIn[364], line 31\u001b[0m, in \u001b[0;36mVetor.__getitem__\u001b[0;34m(self, i)\u001b[0m\n\u001b[1;32m     29\u001b[0m \u001b[38;5;28;01mdef\u001b[39;00m \u001b[38;5;21m__getitem__\u001b[39m(\u001b[38;5;28mself\u001b[39m, i):\n\u001b[1;32m     30\u001b[0m     \u001b[38;5;28mprint\u001b[39m(i)\n\u001b[0;32m---> 31\u001b[0m     \u001b[38;5;28;01mreturn\u001b[39;00m \u001b[38;5;28mself\u001b[39m\u001b[38;5;241m.\u001b[39mvals[i]\n",
      "\u001b[0;31mTypeError\u001b[0m: list indices must be integers or slices, not tuple"
     ]
    }
   ],
   "source": [
    "v1[True:False, 1]"
   ]
  },
  {
   "cell_type": "code",
   "execution_count": null,
   "metadata": {},
   "outputs": [],
   "source": []
  }
 ],
 "metadata": {
  "kernelspec": {
   "display_name": "base",
   "language": "python",
   "name": "python3"
  },
  "language_info": {
   "codemirror_mode": {
    "name": "ipython",
    "version": 3
   },
   "file_extension": ".py",
   "mimetype": "text/x-python",
   "name": "python",
   "nbconvert_exporter": "python",
   "pygments_lexer": "ipython3",
   "version": "3.12.4"
  }
 },
 "nbformat": 4,
 "nbformat_minor": 2
}
