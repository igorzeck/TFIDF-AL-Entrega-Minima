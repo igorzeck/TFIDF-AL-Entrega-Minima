{
 "cells": [
  {
   "cell_type": "markdown",
   "metadata": {},
   "source": [
    "# TESTE de TF-IDF Manual"
   ]
  },
  {
   "cell_type": "markdown",
   "metadata": {},
   "source": [
    "## Importações"
   ]
  },
  {
   "cell_type": "code",
   "execution_count": 211,
   "metadata": {},
   "outputs": [
    {
     "name": "stderr",
     "output_type": "stream",
     "text": [
      "[nltk_data] Downloading package stopwords to /home/vortex/nltk_data...\n",
      "[nltk_data]   Package stopwords is already up-to-date!\n"
     ]
    }
   ],
   "source": [
    "# Importações\n",
    "import nltk\n",
    "import pandas as pd\n",
    "import re\n",
    "from collections import Counter\n",
    "from itertools import chain\n",
    "from sklearn.feature_extraction.text import CountVectorizer, TfidfVectorizer\n",
    "from sklearn.metrics.pairwise import cosine_similarity\n",
    "nltk.download('stopwords')  # Não baixa se já estiver atualizado!\n",
    "from nltk.corpus import stopwords\n",
    "import math"
   ]
  },
  {
   "cell_type": "markdown",
   "metadata": {},
   "source": [
    "## Setup"
   ]
  },
  {
   "cell_type": "code",
   "execution_count": 212,
   "metadata": {},
   "outputs": [],
   "source": [
    "doc_mestre_path = \"datasets/teste_csv_exemplo.csv\"\n",
    "sw = set(stopwords.words('portuguese'))\n",
    "col_texto = \"Texto\"\n",
    "df_mestre = pd.read_csv(doc_mestre_path)"
   ]
  },
  {
   "cell_type": "markdown",
   "metadata": {},
   "source": [
    "# Funções de auxílio"
   ]
  },
  {
   "cell_type": "code",
   "execution_count": 213,
   "metadata": {},
   "outputs": [],
   "source": [
    "def ciclar_v(v, n=-1):\n",
    "    \"\"\"\n",
    "    Percorre ciclicamente o vetor v em n passos\n",
    "    Se n não for fornecido, percorre quantas vezes for chamado\n",
    "    \"\"\"\n",
    "    x = 0\n",
    "    for _ in range(n):\n",
    "        yield v[x]\n",
    "        x = (x + 1) if (x + 1) < len(v) else 0\n"
   ]
  },
  {
   "cell_type": "code",
   "execution_count": 214,
   "metadata": {},
   "outputs": [],
   "source": [
    "def aplicar_op(v1, op, v2):\n",
    "    \"\"\"\n",
    "    Aplica operação op nos elementos de v1 a partir dos de v2 e retorna resultado\n",
    "    em um vetor do mesmo tamanho de v1\n",
    "    \"\"\"\n",
    "    vr = []\n",
    "    genv2 = ciclar_v(v2, len(v1))\n",
    "    for i in range(len(v1)):\n",
    "        vr.append(op(v1[i], next(genv2)))\n",
    "    return vr"
   ]
  },
  {
   "cell_type": "code",
   "execution_count": 215,
   "metadata": {},
   "outputs": [],
   "source": [
    "_mul_ = lambda n1, n2: n1 * n2 "
   ]
  },
  {
   "cell_type": "markdown",
   "metadata": {},
   "source": [
    "## Limpeza"
   ]
  },
  {
   "cell_type": "code",
   "execution_count": 216,
   "metadata": {},
   "outputs": [],
   "source": [
    "def limpeza_str(texto: str):\n",
    "    global sw\n",
    "    texto = texto.lower()\n",
    "    temp_texto = []\n",
    "    # Retira todo e qualquer caractere especial (incluindo UNICODE)\n",
    "    pals = re.sub(r'[^\\w\\s]|_', ' ', texto, flags=re.UNICODE).split()\n",
    "    for pal in pals:\n",
    "        if pal not in sw:\n",
    "            if pal.isalnum():\n",
    "                temp_texto.append(pal)\n",
    "            else:\n",
    "                temp_texto.append(\" \")\n",
    "    return ' '.join(temp_texto)"
   ]
  },
  {
   "cell_type": "code",
   "execution_count": 217,
   "metadata": {},
   "outputs": [],
   "source": [
    "df_tinindo = df_mestre.copy()\n",
    "df_tinindo[col_texto] = df_tinindo[col_texto].apply(limpeza_str)"
   ]
  },
  {
   "cell_type": "code",
   "execution_count": 218,
   "metadata": {},
   "outputs": [],
   "source": [
    "# query = \"A paraplegic Marine dispatched to the moon Pandora on a unique mission becomes torn between following his orders and protecting the world he feels is his home.\"\n",
    "# query = 'this is the first document'\n",
    "query = 'O gato comeu o rato'\n",
    "query = limpeza_str(query)"
   ]
  },
  {
   "cell_type": "code",
   "execution_count": 219,
   "metadata": {},
   "outputs": [
    {
     "data": {
      "text/plain": [
       "['gato comeu rato', 'gato sentou cadeira', 'rato comeu queijo cadeira']"
      ]
     },
     "execution_count": 219,
     "metadata": {},
     "output_type": "execute_result"
    }
   ],
   "source": [
    "lista_tinindo = [query] + df_tinindo[col_texto].to_list()\n",
    "lista_tinindo"
   ]
  },
  {
   "cell_type": "markdown",
   "metadata": {},
   "source": [
    "## Funções para cálculo da similaridade de cossenos"
   ]
  },
  {
   "cell_type": "markdown",
   "metadata": {},
   "source": [
    "$\\vec{v}\\cdot\\vec{w} = \\sum_{i = 1}^{n}{\\lVert v_{i} \\rVert\\times\\lVert w_{i} \\rVert}$, onde $n$ é o número de dimensões"
   ]
  },
  {
   "cell_type": "code",
   "execution_count": 220,
   "metadata": {},
   "outputs": [],
   "source": [
    "def prod_escalar(v1, v2) -> int:\n",
    "    \"\"\"\n",
    "    Retorna o produto escalar de dois vetores.\n",
    "    Implicitio que eles tem a mesma dimensão\n",
    "    \"\"\"\n",
    "    return sum(aplicar_op(v1, _mul_, v2))"
   ]
  },
  {
   "cell_type": "markdown",
   "metadata": {},
   "source": [
    "Fórmula utilizada: $\\cos\\theta = \\frac{\\vec{v} \\cdot \\vec{w}}{\\lVert v \\rVert \\times \\lVert w \\rVert}$\n"
   ]
  },
  {
   "cell_type": "code",
   "execution_count": 221,
   "metadata": {},
   "outputs": [],
   "source": [
    "def comp_sim_cos(list_v, vect) -> list:\n",
    "    \"\"\"\n",
    "    Computa similaridade de cosseno entre uma coleção de vetores e um vetor\n",
    "    Retorna lista de cossenos\n",
    "    \"\"\"\n",
    "    return [(prod_escalar(v_el, vect)/(math.sqrt(prod_escalar(v_el, v_el))*math.sqrt(prod_escalar(vect, vect)))) for v_el in list_v]"
   ]
  },
  {
   "cell_type": "markdown",
   "metadata": {},
   "source": [
    "## BOW"
   ]
  },
  {
   "cell_type": "markdown",
   "metadata": {},
   "source": [
    "## Set com termos únicos (Tokenização)"
   ]
  },
  {
   "cell_type": "code",
   "execution_count": 222,
   "metadata": {},
   "outputs": [],
   "source": [
    "def dimensionar(lista_limpa) -> tuple:\n",
    "    \"\"\"\n",
    "    Faz, a partir de uma coleção limpa, uma Bag of Words, \n",
    "    retornando uma tupla com as dimensões TODO: Decidir se vai ou não ser tupla!\n",
    "    \"\"\"\n",
    "    dimen_set = set()\n",
    "    for texto in lista_tinindo:\n",
    "        for pal in texto.split(\" \"):\n",
    "            dimen_set.add(pal)\n",
    "    return tuple(dimen_set)"
   ]
  },
  {
   "cell_type": "markdown",
   "metadata": {},
   "source": [
    "## Vetorização"
   ]
  },
  {
   "cell_type": "code",
   "execution_count": 223,
   "metadata": {},
   "outputs": [],
   "source": [
    "lista_dimen = tuple(dimensionar(lista_tinindo))"
   ]
  },
  {
   "cell_type": "markdown",
   "metadata": {},
   "source": [
    "Passa para tupla para se ter referência fixa dos termos do Set"
   ]
  },
  {
   "cell_type": "code",
   "execution_count": 224,
   "metadata": {},
   "outputs": [],
   "source": [
    "def arr_bowrizar(lista_limpa):\n",
    "    arr_dimen = []\n",
    "    for i, doc in enumerate(lista_limpa):\n",
    "        vect = []\n",
    "        for token in lista_dimen:\n",
    "            vect.append(doc.count(token))\n",
    "        arr_dimen.append(vect)\n",
    "    return arr_dimen"
   ]
  },
  {
   "cell_type": "code",
   "execution_count": 225,
   "metadata": {},
   "outputs": [
    {
     "data": {
      "text/plain": [
       "[[1, 1, 0, 0, 0, 1], [1, 0, 1, 1, 0, 0], [0, 1, 0, 1, 1, 1]]"
      ]
     },
     "execution_count": 225,
     "metadata": {},
     "output_type": "execute_result"
    }
   ],
   "source": [
    "col_garcia = [\"gato\", \"comeu\", \"sentou\", \"cadeira\", \"queijo\", \"rato\"]\n",
    "lista_dimen = col_garcia\n",
    "arr_dimen = arr_bowrizar(lista_tinindo)\n",
    "arr_dimen"
   ]
  },
  {
   "cell_type": "markdown",
   "metadata": {},
   "source": [
    "Dicionários seriam mais práticos, mas também bem mais lentos!"
   ]
  },
  {
   "cell_type": "code",
   "execution_count": 226,
   "metadata": {},
   "outputs": [
    {
     "data": {
      "text/html": [
       "<div>\n",
       "<style scoped>\n",
       "    .dataframe tbody tr th:only-of-type {\n",
       "        vertical-align: middle;\n",
       "    }\n",
       "\n",
       "    .dataframe tbody tr th {\n",
       "        vertical-align: top;\n",
       "    }\n",
       "\n",
       "    .dataframe thead th {\n",
       "        text-align: right;\n",
       "    }\n",
       "</style>\n",
       "<table border=\"1\" class=\"dataframe\">\n",
       "  <thead>\n",
       "    <tr style=\"text-align: right;\">\n",
       "      <th></th>\n",
       "      <th>gato</th>\n",
       "      <th>comeu</th>\n",
       "      <th>sentou</th>\n",
       "      <th>cadeira</th>\n",
       "      <th>queijo</th>\n",
       "      <th>rato</th>\n",
       "    </tr>\n",
       "  </thead>\n",
       "  <tbody>\n",
       "    <tr>\n",
       "      <th>gato comeu rato</th>\n",
       "      <td>1</td>\n",
       "      <td>1</td>\n",
       "      <td>0</td>\n",
       "      <td>0</td>\n",
       "      <td>0</td>\n",
       "      <td>1</td>\n",
       "    </tr>\n",
       "    <tr>\n",
       "      <th>gato sentou cadeira</th>\n",
       "      <td>1</td>\n",
       "      <td>0</td>\n",
       "      <td>1</td>\n",
       "      <td>1</td>\n",
       "      <td>0</td>\n",
       "      <td>0</td>\n",
       "    </tr>\n",
       "    <tr>\n",
       "      <th>rato comeu queijo cadeira</th>\n",
       "      <td>0</td>\n",
       "      <td>1</td>\n",
       "      <td>0</td>\n",
       "      <td>1</td>\n",
       "      <td>1</td>\n",
       "      <td>1</td>\n",
       "    </tr>\n",
       "  </tbody>\n",
       "</table>\n",
       "</div>"
      ],
      "text/plain": [
       "                           gato  comeu  sentou  cadeira  queijo  rato\n",
       "gato comeu rato               1      1       0        0       0     1\n",
       "gato sentou cadeira           1      0       1        1       0     0\n",
       "rato comeu queijo cadeira     0      1       0        1       1     1"
      ]
     },
     "execution_count": 226,
     "metadata": {},
     "output_type": "execute_result"
    }
   ],
   "source": [
    "df_bow = pd.DataFrame(arr_dimen, columns=lista_dimen, index=lista_tinindo)\n",
    "df_bow"
   ]
  },
  {
   "cell_type": "markdown",
   "metadata": {},
   "source": [
    "### Similaridade de cossenos por BOW simples"
   ]
  },
  {
   "cell_type": "code",
   "execution_count": 227,
   "metadata": {},
   "outputs": [
    {
     "data": {
      "text/plain": [
       "[1.0000000000000002, 0.33333333333333337, 0.5773502691896258]"
      ]
     },
     "execution_count": 227,
     "metadata": {},
     "output_type": "execute_result"
    }
   ],
   "source": [
    "l_sim_cos = comp_sim_cos(arr_dimen, arr_dimen[0])\n",
    "l_sim_cos"
   ]
  },
  {
   "cell_type": "markdown",
   "metadata": {},
   "source": [
    "#### Similaridade por Sci-kit"
   ]
  },
  {
   "cell_type": "code",
   "execution_count": 228,
   "metadata": {},
   "outputs": [
    {
     "data": {
      "text/html": [
       "<div>\n",
       "<style scoped>\n",
       "    .dataframe tbody tr th:only-of-type {\n",
       "        vertical-align: middle;\n",
       "    }\n",
       "\n",
       "    .dataframe tbody tr th {\n",
       "        vertical-align: top;\n",
       "    }\n",
       "\n",
       "    .dataframe thead th {\n",
       "        text-align: right;\n",
       "    }\n",
       "</style>\n",
       "<table border=\"1\" class=\"dataframe\">\n",
       "  <thead>\n",
       "    <tr style=\"text-align: right;\">\n",
       "      <th></th>\n",
       "      <th>gato</th>\n",
       "      <th>comeu</th>\n",
       "      <th>sentou</th>\n",
       "      <th>cadeira</th>\n",
       "      <th>queijo</th>\n",
       "      <th>rato</th>\n",
       "    </tr>\n",
       "  </thead>\n",
       "  <tbody>\n",
       "    <tr>\n",
       "      <th>gato comeu rato</th>\n",
       "      <td>1</td>\n",
       "      <td>1</td>\n",
       "      <td>0</td>\n",
       "      <td>0</td>\n",
       "      <td>0</td>\n",
       "      <td>1</td>\n",
       "    </tr>\n",
       "    <tr>\n",
       "      <th>gato sentou cadeira</th>\n",
       "      <td>1</td>\n",
       "      <td>0</td>\n",
       "      <td>1</td>\n",
       "      <td>1</td>\n",
       "      <td>0</td>\n",
       "      <td>0</td>\n",
       "    </tr>\n",
       "    <tr>\n",
       "      <th>rato comeu queijo cadeira</th>\n",
       "      <td>0</td>\n",
       "      <td>1</td>\n",
       "      <td>0</td>\n",
       "      <td>1</td>\n",
       "      <td>1</td>\n",
       "      <td>1</td>\n",
       "    </tr>\n",
       "  </tbody>\n",
       "</table>\n",
       "</div>"
      ],
      "text/plain": [
       "                           gato  comeu  sentou  cadeira  queijo  rato\n",
       "gato comeu rato               1      1       0        0       0     1\n",
       "gato sentou cadeira           1      0       1        1       0     0\n",
       "rato comeu queijo cadeira     0      1       0        1       1     1"
      ]
     },
     "execution_count": 228,
     "metadata": {},
     "output_type": "execute_result"
    }
   ],
   "source": [
    "cvect = CountVectorizer()\n",
    "f_l = cvect.fit_transform(lista_tinindo)\n",
    "df_bow_cv = pd.DataFrame(f_l.toarray(), columns=cvect.get_feature_names_out(), index=lista_tinindo)\n",
    "df_bow_cv = df_bow_cv[lista_dimen]\n",
    "df_bow_cv\n"
   ]
  },
  {
   "cell_type": "markdown",
   "metadata": {},
   "source": [
    "#### Similaridade de cossenos pelo Sci-kit"
   ]
  },
  {
   "cell_type": "code",
   "execution_count": 229,
   "metadata": {},
   "outputs": [
    {
     "data": {
      "text/plain": [
       "[[1.0000000000000002], [0.3333333333333334], [0.5773502691896258]]"
      ]
     },
     "execution_count": 229,
     "metadata": {},
     "output_type": "execute_result"
    }
   ],
   "source": [
    "sim_scores = cosine_similarity(f_l, f_l[0])\n",
    "sim_scores.tolist()"
   ]
  },
  {
   "cell_type": "markdown",
   "metadata": {},
   "source": [
    "## TF (Term Frequency)"
   ]
  },
  {
   "cell_type": "code",
   "execution_count": 230,
   "metadata": {},
   "outputs": [],
   "source": [
    "def tf(l_vect, rel=True) -> list[list]:\n",
    "    \"\"\"\n",
    "    rel: Define se ocorrerá divisão de cada elemento da coleção por algum valor, relativando\n",
    "    \"\"\"\n",
    "    if rel:\n",
    "        dimen = len(l_vect[0])\n",
    "        n_vect = [aplicar_op(vect, _mul_, [1/dimen]) for vect in l_vect]\n",
    "    else:\n",
    "        n_vect = l_vect\n",
    "    return n_vect"
   ]
  },
  {
   "cell_type": "code",
   "execution_count": 231,
   "metadata": {},
   "outputs": [
    {
     "data": {
      "text/plain": [
       "[[0.16666666666666666,\n",
       "  0.16666666666666666,\n",
       "  0.0,\n",
       "  0.0,\n",
       "  0.0,\n",
       "  0.16666666666666666],\n",
       " [0.16666666666666666,\n",
       "  0.0,\n",
       "  0.16666666666666666,\n",
       "  0.16666666666666666,\n",
       "  0.0,\n",
       "  0.0],\n",
       " [0.0,\n",
       "  0.16666666666666666,\n",
       "  0.0,\n",
       "  0.16666666666666666,\n",
       "  0.16666666666666666,\n",
       "  0.16666666666666666]]"
      ]
     },
     "execution_count": 231,
     "metadata": {},
     "output_type": "execute_result"
    }
   ],
   "source": [
    "l_tf_rel = tf(arr_dimen)\n",
    "l_tf_rel"
   ]
  },
  {
   "cell_type": "code",
   "execution_count": 232,
   "metadata": {},
   "outputs": [
    {
     "data": {
      "text/plain": [
       "[[1, 1, 0, 0, 0, 1], [1, 0, 1, 1, 0, 0], [0, 1, 0, 1, 1, 1]]"
      ]
     },
     "execution_count": 232,
     "metadata": {},
     "output_type": "execute_result"
    }
   ],
   "source": [
    "l_tf = tf(arr_dimen, False)\n",
    "l_tf"
   ]
  },
  {
   "cell_type": "markdown",
   "metadata": {},
   "source": [
    "## IDF (Inverse Documento Frequency)"
   ]
  },
  {
   "cell_type": "markdown",
   "metadata": {},
   "source": [
    "### Modo manual"
   ]
  },
  {
   "cell_type": "code",
   "execution_count": 233,
   "metadata": {},
   "outputs": [],
   "source": [
    "# TODO: Esse 'suav' é adequado?\n",
    "def idf(l_vect, suav=True, modo_garcia=False):\n",
    "    \"\"\"\n",
    "    Coleção de documentos vetorizados -> lista com idfs por termo\n",
    "    \"\"\"\n",
    "    l_idfs = []\n",
    "    n_docs = len(l_vect)\n",
    "    n_dimen = len(l_vect[0])  # Pega dimensão do primeiro vetor\n",
    "    base = 10 if modo_garcia else math.e\n",
    "    suav = float(suav)\n",
    "    for i_termo in range(n_dimen):\n",
    "        # Conta ocorrência transdocumental\n",
    "        idf_t = math.log(\n",
    "                (n_docs + suav)/([doc[i_termo] != 0 for doc in l_vect].count(True) + suav),\n",
    "                base\n",
    "            ) + float(not modo_garcia)\n",
    "        l_idfs.append(idf_t)\n",
    "\n",
    "    return l_idfs\n",
    "    "
   ]
  },
  {
   "cell_type": "code",
   "execution_count": 234,
   "metadata": {},
   "outputs": [
    {
     "data": {
      "text/plain": [
       "[0.1249387366082999,\n",
       " 0.1249387366082999,\n",
       " 0.30102999566398114,\n",
       " 0.1249387366082999,\n",
       " 0.30102999566398114,\n",
       " 0.1249387366082999]"
      ]
     },
     "execution_count": 234,
     "metadata": {},
     "output_type": "execute_result"
    }
   ],
   "source": [
    "idf(arr_dimen, modo_garcia=True)"
   ]
  },
  {
   "cell_type": "code",
   "execution_count": 235,
   "metadata": {},
   "outputs": [
    {
     "data": {
      "text/plain": [
       "gato       1.405465\n",
       "comeu      1.405465\n",
       "sentou     2.098612\n",
       "cadeira    1.405465\n",
       "queijo     2.098612\n",
       "rato       1.405465\n",
       "dtype: float64"
      ]
     },
     "execution_count": 235,
     "metadata": {},
     "output_type": "execute_result"
    }
   ],
   "source": [
    "l_idf = idf(arr_dimen, suav=False, modo_garcia=False)\n",
    "s_idf = pd.Series(l_idf, index=lista_dimen)\n",
    "s_idf"
   ]
  },
  {
   "cell_type": "markdown",
   "metadata": {},
   "source": [
    "### NLTK"
   ]
  },
  {
   "cell_type": "code",
   "execution_count": 236,
   "metadata": {},
   "outputs": [
    {
     "data": {
      "text/plain": [
       "cadeira    1.405465\n",
       "comeu      1.405465\n",
       "gato       1.405465\n",
       "queijo     2.098612\n",
       "rato       1.405465\n",
       "sentou     2.098612\n",
       "dtype: float64"
      ]
     },
     "execution_count": 236,
     "metadata": {},
     "output_type": "execute_result"
    }
   ],
   "source": [
    "vectz = TfidfVectorizer(smooth_idf=False)\n",
    "tfidf_ = vectz.fit_transform(lista_tinindo)\n",
    "s_idf = pd.Series(vectz.idf_, index=vectz.get_feature_names_out())\n",
    "s_idf"
   ]
  },
  {
   "cell_type": "markdown",
   "metadata": {},
   "source": [
    "## TF-IDF"
   ]
  },
  {
   "cell_type": "markdown",
   "metadata": {},
   "source": [
    "### Modo manual"
   ]
  },
  {
   "cell_type": "code",
   "execution_count": 237,
   "metadata": {},
   "outputs": [],
   "source": [
    "def tfidf(*args, modo_garcia=False):\n",
    "    \"\"\"\n",
    "    Aceita lista com strings limpas e bool modo_garcia\n",
    "    ou TF, IDF, e bool modo_garcia nesta ordem\n",
    "    \"\"\"\n",
    "    if len(args) == 1:\n",
    "        docs_limpos = args[0]\n",
    "        arr_bow_ = arr_bowrizar(docs_limpos)\n",
    "        tf_ = tf(arr_bow_)\n",
    "        idf_ = idf(arr_bow_, modo_garcia)\n",
    "    if len(args) == 2:\n",
    "        tf_ = args[0]\n",
    "        idf_ = args[1]\n",
    "    l_tfidf_ = []\n",
    "    for v in tf_:\n",
    "        l_tfidf_.append(aplicar_op(v, _mul_, idf_))\n",
    "    return l_tfidf_"
   ]
  },
  {
   "cell_type": "code",
   "execution_count": 238,
   "metadata": {},
   "outputs": [
    {
     "data": {
      "text/plain": [
       "[1.4054651081081644,\n",
       " 1.4054651081081644,\n",
       " 2.09861228866811,\n",
       " 1.4054651081081644,\n",
       " 2.09861228866811,\n",
       " 1.4054651081081644]"
      ]
     },
     "execution_count": 238,
     "metadata": {},
     "output_type": "execute_result"
    }
   ],
   "source": [
    "aplicar_op(l_tf[0], _mul_, l_idf)\n",
    "l_idf"
   ]
  },
  {
   "cell_type": "code",
   "execution_count": 239,
   "metadata": {},
   "outputs": [
    {
     "data": {
      "text/html": [
       "<div>\n",
       "<style scoped>\n",
       "    .dataframe tbody tr th:only-of-type {\n",
       "        vertical-align: middle;\n",
       "    }\n",
       "\n",
       "    .dataframe tbody tr th {\n",
       "        vertical-align: top;\n",
       "    }\n",
       "\n",
       "    .dataframe thead th {\n",
       "        text-align: right;\n",
       "    }\n",
       "</style>\n",
       "<table border=\"1\" class=\"dataframe\">\n",
       "  <thead>\n",
       "    <tr style=\"text-align: right;\">\n",
       "      <th></th>\n",
       "      <th>gato</th>\n",
       "      <th>comeu</th>\n",
       "      <th>sentou</th>\n",
       "      <th>cadeira</th>\n",
       "      <th>queijo</th>\n",
       "      <th>rato</th>\n",
       "    </tr>\n",
       "  </thead>\n",
       "  <tbody>\n",
       "    <tr>\n",
       "      <th>gato comeu rato</th>\n",
       "      <td>1.405465</td>\n",
       "      <td>1.405465</td>\n",
       "      <td>0.000000</td>\n",
       "      <td>0.000000</td>\n",
       "      <td>0.000000</td>\n",
       "      <td>1.405465</td>\n",
       "    </tr>\n",
       "    <tr>\n",
       "      <th>gato sentou cadeira</th>\n",
       "      <td>1.405465</td>\n",
       "      <td>0.000000</td>\n",
       "      <td>2.098612</td>\n",
       "      <td>1.405465</td>\n",
       "      <td>0.000000</td>\n",
       "      <td>0.000000</td>\n",
       "    </tr>\n",
       "    <tr>\n",
       "      <th>rato comeu queijo cadeira</th>\n",
       "      <td>0.000000</td>\n",
       "      <td>1.405465</td>\n",
       "      <td>0.000000</td>\n",
       "      <td>1.405465</td>\n",
       "      <td>2.098612</td>\n",
       "      <td>1.405465</td>\n",
       "    </tr>\n",
       "  </tbody>\n",
       "</table>\n",
       "</div>"
      ],
      "text/plain": [
       "                               gato     comeu    sentou   cadeira    queijo  \\\n",
       "gato comeu rato            1.405465  1.405465  0.000000  0.000000  0.000000   \n",
       "gato sentou cadeira        1.405465  0.000000  2.098612  1.405465  0.000000   \n",
       "rato comeu queijo cadeira  0.000000  1.405465  0.000000  1.405465  2.098612   \n",
       "\n",
       "                               rato  \n",
       "gato comeu rato            1.405465  \n",
       "gato sentou cadeira        0.000000  \n",
       "rato comeu queijo cadeira  1.405465  "
      ]
     },
     "execution_count": 239,
     "metadata": {},
     "output_type": "execute_result"
    }
   ],
   "source": [
    "l_tfidf = tfidf(l_tf, l_idf)\n",
    "pd_tfidf = pd.DataFrame(l_tfidf, columns=lista_dimen, index=lista_tinindo)\n",
    "pd_tfidf = pd_tfidf[lista_dimen]\n",
    "pd_tfidf"
   ]
  },
  {
   "cell_type": "code",
   "execution_count": 240,
   "metadata": {},
   "outputs": [
    {
     "data": {
      "text/plain": [
       "[[0.23424418468469405,\n",
       "  0.23424418468469405,\n",
       "  0.0,\n",
       "  0.0,\n",
       "  0.0,\n",
       "  0.23424418468469405],\n",
       " [0.23424418468469405, 0.0, 0.3497687147780183, 0.23424418468469405, 0.0, 0.0],\n",
       " [0.0,\n",
       "  0.23424418468469405,\n",
       "  0.0,\n",
       "  0.23424418468469405,\n",
       "  0.3497687147780183,\n",
       "  0.23424418468469405]]"
      ]
     },
     "execution_count": 240,
     "metadata": {},
     "output_type": "execute_result"
    }
   ],
   "source": [
    "tfidf(lista_tinindo)"
   ]
  },
  {
   "cell_type": "markdown",
   "metadata": {},
   "source": [
    "### Pelo Scikit"
   ]
  },
  {
   "cell_type": "markdown",
   "metadata": {},
   "source": [
    "Para o cálculo do TFIDF o Sci-kit aparenta por padrão utilizar: $tf(t, d)=f_{t,d}$, ou seja, *raw count* de termos naquele documento (BOW)"
   ]
  },
  {
   "cell_type": "markdown",
   "metadata": {},
   "source": [
    "Já o cálculo do TF-IDF em si é somente: $tfidf(t, d) = f(t,d)\\times idf(t, d)$"
   ]
  },
  {
   "cell_type": "code",
   "execution_count": 241,
   "metadata": {},
   "outputs": [
    {
     "data": {
      "text/html": [
       "<div>\n",
       "<style scoped>\n",
       "    .dataframe tbody tr th:only-of-type {\n",
       "        vertical-align: middle;\n",
       "    }\n",
       "\n",
       "    .dataframe tbody tr th {\n",
       "        vertical-align: top;\n",
       "    }\n",
       "\n",
       "    .dataframe thead th {\n",
       "        text-align: right;\n",
       "    }\n",
       "</style>\n",
       "<table border=\"1\" class=\"dataframe\">\n",
       "  <thead>\n",
       "    <tr style=\"text-align: right;\">\n",
       "      <th></th>\n",
       "      <th>gato</th>\n",
       "      <th>comeu</th>\n",
       "      <th>sentou</th>\n",
       "      <th>cadeira</th>\n",
       "      <th>queijo</th>\n",
       "      <th>rato</th>\n",
       "    </tr>\n",
       "  </thead>\n",
       "  <tbody>\n",
       "    <tr>\n",
       "      <th>gato comeu rato</th>\n",
       "      <td>1.405465</td>\n",
       "      <td>1.405465</td>\n",
       "      <td>0.000000</td>\n",
       "      <td>0.000000</td>\n",
       "      <td>0.000000</td>\n",
       "      <td>1.405465</td>\n",
       "    </tr>\n",
       "    <tr>\n",
       "      <th>gato sentou cadeira</th>\n",
       "      <td>1.405465</td>\n",
       "      <td>0.000000</td>\n",
       "      <td>2.098612</td>\n",
       "      <td>1.405465</td>\n",
       "      <td>0.000000</td>\n",
       "      <td>0.000000</td>\n",
       "    </tr>\n",
       "    <tr>\n",
       "      <th>rato comeu queijo cadeira</th>\n",
       "      <td>0.000000</td>\n",
       "      <td>1.405465</td>\n",
       "      <td>0.000000</td>\n",
       "      <td>1.405465</td>\n",
       "      <td>2.098612</td>\n",
       "      <td>1.405465</td>\n",
       "    </tr>\n",
       "  </tbody>\n",
       "</table>\n",
       "</div>"
      ],
      "text/plain": [
       "                               gato     comeu    sentou   cadeira    queijo  \\\n",
       "gato comeu rato            1.405465  1.405465  0.000000  0.000000  0.000000   \n",
       "gato sentou cadeira        1.405465  0.000000  2.098612  1.405465  0.000000   \n",
       "rato comeu queijo cadeira  0.000000  1.405465  0.000000  1.405465  2.098612   \n",
       "\n",
       "                               rato  \n",
       "gato comeu rato            1.405465  \n",
       "gato sentou cadeira        0.000000  \n",
       "rato comeu queijo cadeira  1.405465  "
      ]
     },
     "execution_count": 241,
     "metadata": {},
     "output_type": "execute_result"
    }
   ],
   "source": [
    "vectz = TfidfVectorizer(smooth_idf=False, norm=None)\n",
    "tfidf_ = vectz.fit_transform(lista_tinindo)\n",
    "pd_tfidf = pd.DataFrame(tfidf_.toarray(), columns=vectz.get_feature_names_out(), index=lista_tinindo)\n",
    "pd_tfidf = pd_tfidf[lista_dimen]\n",
    "pd_tfidf"
   ]
  },
  {
   "cell_type": "markdown",
   "metadata": {},
   "source": [
    "# Similaridade de cosseno com TF-IDF"
   ]
  },
  {
   "cell_type": "markdown",
   "metadata": {},
   "source": [
    "## Manual"
   ]
  },
  {
   "cell_type": "code",
   "execution_count": 242,
   "metadata": {},
   "outputs": [
    {
     "data": {
      "text/plain": [
       "[1.0, 0.280731035410019, 0.5049352628627182]"
      ]
     },
     "execution_count": 242,
     "metadata": {},
     "output_type": "execute_result"
    }
   ],
   "source": [
    "sim_scores = comp_sim_cos(l_tfidf, l_tfidf[0])\n",
    "sim_scores"
   ]
  },
  {
   "cell_type": "markdown",
   "metadata": {},
   "source": [
    "## Sci-kit"
   ]
  },
  {
   "cell_type": "code",
   "execution_count": 243,
   "metadata": {},
   "outputs": [
    {
     "data": {
      "text/plain": [
       "array([[1.        ],\n",
       "       [0.28073104],\n",
       "       [0.50493526]])"
      ]
     },
     "execution_count": 243,
     "metadata": {},
     "output_type": "execute_result"
    }
   ],
   "source": [
    "sim_scores = cosine_similarity(tfidf_, tfidf_[0])\n",
    "sim_scores"
   ]
  },
  {
   "cell_type": "code",
   "execution_count": null,
   "metadata": {},
   "outputs": [],
   "source": [
    "class Real:\n",
    "    def __init__(self, valor_str: str):\n",
    "        list_val = valor_str.split(',', maxsplit=1)\n",
    "        self.inteiro = int(list_val[0])\n",
    "        self.decimal = int(list_val[1])\n",
    "    def __add__(self, other):\n",
    "        somado = Real()\n",
    "        somado.intiero = self.inteiro + other.inteiro\n",
    "        somado.decimal = self.inteiro + other.inteiro\n"
   ]
  }
 ],
 "metadata": {
  "kernelspec": {
   "display_name": "base",
   "language": "python",
   "name": "python3"
  },
  "language_info": {
   "codemirror_mode": {
    "name": "ipython",
    "version": 3
   },
   "file_extension": ".py",
   "mimetype": "text/x-python",
   "name": "python",
   "nbconvert_exporter": "python",
   "pygments_lexer": "ipython3",
   "version": "3.12.4"
  }
 },
 "nbformat": 4,
 "nbformat_minor": 2
}
